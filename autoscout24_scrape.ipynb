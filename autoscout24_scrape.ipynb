{
  "nbformat": 4,
  "nbformat_minor": 0,
  "metadata": {
    "colab": {
      "provenance": [],
      "authorship_tag": "ABX9TyOB7XokRk7G+CjgS4X1mZ79",
      "include_colab_link": true
    },
    "kernelspec": {
      "name": "python3",
      "display_name": "Python 3"
    },
    "language_info": {
      "name": "python"
    }
  },
  "cells": [
    {
      "cell_type": "markdown",
      "metadata": {
        "id": "view-in-github",
        "colab_type": "text"
      },
      "source": [
        "<a href=\"https://colab.research.google.com/github/wa-le/autoscout24-webscrape-EDA/blob/master/autoscout24_scrape.ipynb\" target=\"_parent\"><img src=\"https://colab.research.google.com/assets/colab-badge.svg\" alt=\"Open In Colab\"/></a>"
      ]
    },
    {
      "cell_type": "markdown",
      "source": [
        "Install packages/libraries"
      ],
      "metadata": {
        "id": "FRzdejkTLEPj"
      }
    },
    {
      "cell_type": "code",
      "execution_count": null,
      "metadata": {
        "id": "9KXGrxiu-b1_"
      },
      "outputs": [],
      "source": [
        "\"\"\"!pip install bs4\n",
        "!pip install requests\n",
        "!pip install pandas\n",
        "!pip install numpy\"\"\""
      ]
    },
    {
      "cell_type": "markdown",
      "source": [
        "Import packages/libraries"
      ],
      "metadata": {
        "id": "MiygewjvLHCf"
      }
    },
    {
      "cell_type": "code",
      "source": [
        "import pandas as pd\n",
        "import numpy as np\n",
        "from bs4 import BeautifulSoup\n",
        "import requests"
      ],
      "metadata": {
        "id": "f5T63rOu-fqj"
      },
      "execution_count": null,
      "outputs": []
    },
    {
      "cell_type": "code",
      "source": [
        "# set headers to provide more details about request\n",
        "HEADERS = ({'User-Agent': 'Mozilla/5.0 (Windows NT 10.0; Win64; x64) AppleWebKit/537.36 (KHTML, like Gecko) Chrome/107.0.0.0 Safari/537.36', 'Accept-Language': 'en-US, en;q=0.5'})\n"
      ],
      "metadata": {
        "id": "6Pbz1AYI-gJG"
      },
      "execution_count": null,
      "outputs": []
    },
    {
      "cell_type": "code",
      "source": [
        "# list to store url of all cars on autoscout24.be\n",
        "all_url = []"
      ],
      "metadata": {
        "id": "MKlTBoEPMoeP"
      },
      "execution_count": null,
      "outputs": []
    },
    {
      "cell_type": "code",
      "source": [
        "# send request to the 20 accessible pages on the website and scrape the url of each car\n",
        "# store in list -> \"all_url\"\n",
        "\n",
        "for each_page in range(1, 21):\n",
        "  webpage = requests.get(f\"https://www.autoscout24.be/nl/lst?sort=standard&desc=0&ustate=N%2CU&atype=C&cy=B&search_id=10hyyuturim&page={each_page}\", headers=HEADERS)\n",
        "  # webpage.content\n",
        "  soup = BeautifulSoup(webpage.content, \"html.parser\")\n",
        "  links = soup.find_all(\"a\", attrs={'class': 'ListItem_title__znV2I Link_link__pjU1l'})\n",
        "  for i in range(0, 20):\n",
        "    all_url.append(links[i].get(\"href\"))"
      ],
      "metadata": {
        "id": "DlA-fwDF-gXQ"
      },
      "execution_count": null,
      "outputs": []
    },
    {
      "cell_type": "code",
      "source": [
        "# all_url now contains links to all the cars on the website\n",
        "len(all_url)"
      ],
      "metadata": {
        "colab": {
          "base_uri": "https://localhost:8080/"
        },
        "id": "R32pADu8PvYw",
        "outputId": "c6366b8f-f0f6-4c0f-9ba5-2598dec88f54"
      },
      "execution_count": null,
      "outputs": [
        {
          "output_type": "execute_result",
          "data": {
            "text/plain": [
              "400"
            ]
          },
          "metadata": {},
          "execution_count": 30
        }
      ]
    },
    {
      "cell_type": "code",
      "source": [
        "# Functions to scrape each property\n",
        "\n",
        "# scrape name\n",
        "def get_name(soup):\n",
        "  try:\n",
        "    name = soup.find('span', attrs={'class':'StageTitle_boldClassifiedInfo__L7JmO'}).text\n",
        "  except AttributeError:\n",
        "    name = \"\"\n",
        "\n",
        "  return name\n",
        "\n",
        "# scrape model\n",
        "def get_model(soup):\n",
        "  try:\n",
        "    model = soup.find('span', attrs={'class':'StageTitle_model__pG_6i StageTitle_boldClassifiedInfo__L7JmO'}).text\n",
        "  except AttributeError:\n",
        "    model = \"\"\n",
        "\n",
        "  return model\n",
        "\n",
        "# scrape price\n",
        "def get_price(soup):\n",
        "  try:\n",
        "    price = soup.find('span', attrs={'class':'StandardPrice_price__X_zzU'}).text.split(\",\")[0]\n",
        "  except AttributeError:\n",
        "    price = \"\"\n",
        "\n",
        "  return price\n",
        "\n",
        "# scrape kilometers\n",
        "def get_kilometers(soup):\n",
        "  try:\n",
        "    kilometers = soup.find_all('div', attrs={'class':'VehicleOverview_itemContainer__Ol37r'})[0].find('div', attrs={'class':'VehicleOverview_itemText__V1yKT'}).text\n",
        "  except AttributeError:\n",
        "    kilometers = \"\"\n",
        "\n",
        "  return kilometers\n",
        "\n",
        "# scrape transmission\n",
        "def get_transmission(soup):\n",
        "  try:\n",
        "    transmission = soup.find_all('div', attrs={'class':'VehicleOverview_itemContainer__Ol37r'})[1].find('div', attrs={'class':'VehicleOverview_itemText__V1yKT'}).text\n",
        "  except AttributeError:\n",
        "    transmission = \"\"\n",
        "\n",
        "  return transmission\n",
        "\n",
        "# scrape manufactured_date\n",
        "def get_manufactured_date(soup):\n",
        "  try:\n",
        "    manufactured_date = soup.find_all('div', attrs={'class':'VehicleOverview_itemContainer__Ol37r'})[2].find('div', attrs={'class':'VehicleOverview_itemText__V1yKT'}).text\n",
        "  except AttributeError:\n",
        "    manufactured_date = \"\"\n",
        "\n",
        "  return manufactured_date\n",
        "\n",
        "# scrape fuel_type\n",
        "def get_fuel_type(soup):\n",
        "  try:\n",
        "    fuel_type = soup.find_all('div', attrs={'class':'VehicleOverview_itemContainer__Ol37r'})[3].find('div', attrs={'class':'VehicleOverview_itemText__V1yKT'}).text\n",
        "  except AttributeError:\n",
        "    fuel_type = \"\"\n",
        "\n",
        "  return fuel_type\n",
        "\n",
        "# scrape power\n",
        "def get_power(soup):\n",
        "  try:\n",
        "    power = soup.find_all('div', attrs={'class':'VehicleOverview_itemContainer__Ol37r'})[4].find('div', attrs={'class':'VehicleOverview_itemText__V1yKT'}).text\n",
        "  except AttributeError:\n",
        "    power = \"\"\n",
        "\n",
        "  return power\n",
        "\n",
        "# scrape model\n",
        "def get_seller(soup):\n",
        "  try:\n",
        "    seller = soup.find_all('div', attrs={'class':'VehicleOverview_itemContainer__Ol37r'})[5].find('div', attrs={'class':'VehicleOverview_itemText__V1yKT'}).text\n",
        "  except AttributeError:\n",
        "    seller = \"\"\n",
        "\n",
        "  return seller\n"
      ],
      "metadata": {
        "id": "nqqEg3Ff9zJF"
      },
      "execution_count": null,
      "outputs": []
    },
    {
      "cell_type": "code",
      "source": [
        "# dict to values in each col\n",
        "first_data = {\n",
        "    \"name\": [],\n",
        "    \"model\": [],\n",
        "    \"price\": [],\n",
        "    \"kilometers\": [],\n",
        "    \"transmission\": [],\n",
        "    \"manufactured_date\": [],\n",
        "    \"fuel_type\": [],\n",
        "    \"power\": [],\n",
        "    \"seller\": []\n",
        "}"
      ],
      "metadata": {
        "id": "CkIzgi-Qtvqr"
      },
      "execution_count": null,
      "outputs": []
    },
    {
      "cell_type": "code",
      "source": [
        "# scrape data from each url\n",
        "for url in all_url:\n",
        "  webpage = requests.get(f\"https://www.autoscout24.be{url}\", headers=HEADERS)\n",
        "  soup = BeautifulSoup(webpage.content, \"html.parser\")\n",
        "\n",
        "  first_data['name'].append(get_name(soup))\n",
        "\n",
        "  first_data['model'].append(get_model(soup))\n",
        "\n",
        "  first_data['price'].append(get_price(soup))\n",
        "\n",
        "  first_data['kilometers'].append(get_kilometers(soup))\n",
        "\n",
        "  first_data['transmission'].append(get_transmission(soup))\n",
        "\n",
        "  first_data['manufactured_date'].append(get_manufactured_date(soup))\n",
        "\n",
        "  first_data['fuel_type'].append(get_fuel_type(soup))\n",
        "\n",
        "  first_data['power'].append(get_power(soup))\n",
        "\n",
        "  first_data['seller'].append(get_seller(soup))"
      ],
      "metadata": {
        "id": "h9F9wZPstvh8"
      },
      "execution_count": null,
      "outputs": []
    },
    {
      "cell_type": "code",
      "source": [
        "len(first_data['fuel_type'])"
      ],
      "metadata": {
        "colab": {
          "base_uri": "https://localhost:8080/"
        },
        "id": "CfhvqCHWtvVR",
        "outputId": "07747527-1f3f-4406-e525-4a05c9c43adc"
      },
      "execution_count": null,
      "outputs": [
        {
          "output_type": "execute_result",
          "data": {
            "text/plain": [
              "400"
            ]
          },
          "metadata": {},
          "execution_count": 55
        }
      ]
    },
    {
      "cell_type": "code",
      "source": [
        "# create a dataframe using the 'first_data' dict\n",
        "autoscout24_df = pd.DataFrame.from_dict(first_data)"
      ],
      "metadata": {
        "id": "gMjUyyY1F8EH"
      },
      "execution_count": null,
      "outputs": []
    },
    {
      "cell_type": "code",
      "source": [
        "autoscout24_df['kilometers'].replace('-', '', inplace=True)\n",
        "autoscout24_df['manufactured_date'].replace('-', '', inplace=True)\n",
        "autoscout24_df['fuel_type'].replace('-', '', inplace=True)"
      ],
      "metadata": {
        "id": "FRIzH2GbN0Jn"
      },
      "execution_count": null,
      "outputs": []
    },
    {
      "cell_type": "code",
      "source": [
        "autoscout24_df.head(15)"
      ],
      "metadata": {
        "colab": {
          "base_uri": "https://localhost:8080/",
          "height": 520
        },
        "id": "e0VRpVyTIVrZ",
        "outputId": "72d08223-eb9d-4bc9-cf84-aee8100d00a7"
      },
      "execution_count": null,
      "outputs": [
        {
          "output_type": "execute_result",
          "data": {
            "text/plain": [
              "              name    model      price  kilometers transmission  \\\n",
              "0          Abarth      695C   € 30.950        0 km      Manueel   \n",
              "1   Mercedes-Benz     S 580  € 158.000       10 km  Automatisch   \n",
              "2         Porsche       911  € 249.950    6.000 km  Automatisch   \n",
              "3         Porsche    Cayman  € 102.990    9.155 km      Manueel   \n",
              "4            Ford   Mustang   € 33.990   49.000 km      Manueel   \n",
              "5             BMW       640   € 24.000  116.753 km  Automatisch   \n",
              "6   Mercedes-Benz    AMG GT   € 94.750   71.189 km  Automatisch   \n",
              "7             BMW        M5   € 59.990  121.730 km  Automatisch   \n",
              "8         Hyundai    TUCSON   € 32.700    7.627 km  Automatisch   \n",
              "9         Porsche   Boxster   € 30.900  135.900 km  Automatisch   \n",
              "10          Tesla   Model Y   € 66.800   17.500 km  Automatisch   \n",
              "11        Porsche       718  € 102.990    9.155 km      Manueel   \n",
              "12         Jaguar        XF             282.000 km  Automatisch   \n",
              "13           Audi        R8   € 69.950   53.981 km  Automatisch   \n",
              "14            BMW       225   € 20.300  120.434 km  Automatisch   \n",
              "\n",
              "   manufactured_date           fuel_type            power       seller  \n",
              "0            09/2022             Benzine  121 kW (165 PK)  Autobedrijf  \n",
              "1                     Elektrisch/Benzine  380 kW (517 PK)  Autobedrijf  \n",
              "2            01/2022             Benzine  353 kW (480 PK)  Autobedrijf  \n",
              "3            03/2020             Benzine  309 kW (420 PK)  Autobedrijf  \n",
              "4            05/2019             Benzine  233 kW (317 PK)  Autobedrijf  \n",
              "5            10/2013             Benzine  235 kW (320 PK)  Autobedrijf  \n",
              "6            01/2019             Benzine  270 kW (367 PK)  Autobedrijf  \n",
              "7            08/2018             Benzine  441 kW (600 PK)  Autobedrijf  \n",
              "8            11/2021  Elektrisch/Benzine                   Autobedrijf  \n",
              "9            08/2006             Benzine  217 kW (295 PK)  Autobedrijf  \n",
              "10           11/2021          Elektrisch  378 kW (514 PK)  Autobedrijf  \n",
              "11           03/2020             Benzine  309 kW (420 PK)  Autobedrijf  \n",
              "12           06/2013             Benzine  250 kW (340 PK)  Autobedrijf  \n",
              "13           09/2007             Benzine  309 kW (420 PK)  Autobedrijf  \n",
              "14           07/2016  Elektrisch/Benzine  165 kW (224 PK)  Autobedrijf  "
            ],
            "text/html": [
              "\n",
              "  <div id=\"df-0a8ed8e4-b8ba-43ca-b6e8-aa2440c51736\">\n",
              "    <div class=\"colab-df-container\">\n",
              "      <div>\n",
              "<style scoped>\n",
              "    .dataframe tbody tr th:only-of-type {\n",
              "        vertical-align: middle;\n",
              "    }\n",
              "\n",
              "    .dataframe tbody tr th {\n",
              "        vertical-align: top;\n",
              "    }\n",
              "\n",
              "    .dataframe thead th {\n",
              "        text-align: right;\n",
              "    }\n",
              "</style>\n",
              "<table border=\"1\" class=\"dataframe\">\n",
              "  <thead>\n",
              "    <tr style=\"text-align: right;\">\n",
              "      <th></th>\n",
              "      <th>name</th>\n",
              "      <th>model</th>\n",
              "      <th>price</th>\n",
              "      <th>kilometers</th>\n",
              "      <th>transmission</th>\n",
              "      <th>manufactured_date</th>\n",
              "      <th>fuel_type</th>\n",
              "      <th>power</th>\n",
              "      <th>seller</th>\n",
              "    </tr>\n",
              "  </thead>\n",
              "  <tbody>\n",
              "    <tr>\n",
              "      <th>0</th>\n",
              "      <td>Abarth</td>\n",
              "      <td>695C</td>\n",
              "      <td>€ 30.950</td>\n",
              "      <td>0 km</td>\n",
              "      <td>Manueel</td>\n",
              "      <td>09/2022</td>\n",
              "      <td>Benzine</td>\n",
              "      <td>121 kW (165 PK)</td>\n",
              "      <td>Autobedrijf</td>\n",
              "    </tr>\n",
              "    <tr>\n",
              "      <th>1</th>\n",
              "      <td>Mercedes-Benz</td>\n",
              "      <td>S 580</td>\n",
              "      <td>€ 158.000</td>\n",
              "      <td>10 km</td>\n",
              "      <td>Automatisch</td>\n",
              "      <td></td>\n",
              "      <td>Elektrisch/Benzine</td>\n",
              "      <td>380 kW (517 PK)</td>\n",
              "      <td>Autobedrijf</td>\n",
              "    </tr>\n",
              "    <tr>\n",
              "      <th>2</th>\n",
              "      <td>Porsche</td>\n",
              "      <td>911</td>\n",
              "      <td>€ 249.950</td>\n",
              "      <td>6.000 km</td>\n",
              "      <td>Automatisch</td>\n",
              "      <td>01/2022</td>\n",
              "      <td>Benzine</td>\n",
              "      <td>353 kW (480 PK)</td>\n",
              "      <td>Autobedrijf</td>\n",
              "    </tr>\n",
              "    <tr>\n",
              "      <th>3</th>\n",
              "      <td>Porsche</td>\n",
              "      <td>Cayman</td>\n",
              "      <td>€ 102.990</td>\n",
              "      <td>9.155 km</td>\n",
              "      <td>Manueel</td>\n",
              "      <td>03/2020</td>\n",
              "      <td>Benzine</td>\n",
              "      <td>309 kW (420 PK)</td>\n",
              "      <td>Autobedrijf</td>\n",
              "    </tr>\n",
              "    <tr>\n",
              "      <th>4</th>\n",
              "      <td>Ford</td>\n",
              "      <td>Mustang</td>\n",
              "      <td>€ 33.990</td>\n",
              "      <td>49.000 km</td>\n",
              "      <td>Manueel</td>\n",
              "      <td>05/2019</td>\n",
              "      <td>Benzine</td>\n",
              "      <td>233 kW (317 PK)</td>\n",
              "      <td>Autobedrijf</td>\n",
              "    </tr>\n",
              "    <tr>\n",
              "      <th>5</th>\n",
              "      <td>BMW</td>\n",
              "      <td>640</td>\n",
              "      <td>€ 24.000</td>\n",
              "      <td>116.753 km</td>\n",
              "      <td>Automatisch</td>\n",
              "      <td>10/2013</td>\n",
              "      <td>Benzine</td>\n",
              "      <td>235 kW (320 PK)</td>\n",
              "      <td>Autobedrijf</td>\n",
              "    </tr>\n",
              "    <tr>\n",
              "      <th>6</th>\n",
              "      <td>Mercedes-Benz</td>\n",
              "      <td>AMG GT</td>\n",
              "      <td>€ 94.750</td>\n",
              "      <td>71.189 km</td>\n",
              "      <td>Automatisch</td>\n",
              "      <td>01/2019</td>\n",
              "      <td>Benzine</td>\n",
              "      <td>270 kW (367 PK)</td>\n",
              "      <td>Autobedrijf</td>\n",
              "    </tr>\n",
              "    <tr>\n",
              "      <th>7</th>\n",
              "      <td>BMW</td>\n",
              "      <td>M5</td>\n",
              "      <td>€ 59.990</td>\n",
              "      <td>121.730 km</td>\n",
              "      <td>Automatisch</td>\n",
              "      <td>08/2018</td>\n",
              "      <td>Benzine</td>\n",
              "      <td>441 kW (600 PK)</td>\n",
              "      <td>Autobedrijf</td>\n",
              "    </tr>\n",
              "    <tr>\n",
              "      <th>8</th>\n",
              "      <td>Hyundai</td>\n",
              "      <td>TUCSON</td>\n",
              "      <td>€ 32.700</td>\n",
              "      <td>7.627 km</td>\n",
              "      <td>Automatisch</td>\n",
              "      <td>11/2021</td>\n",
              "      <td>Elektrisch/Benzine</td>\n",
              "      <td></td>\n",
              "      <td>Autobedrijf</td>\n",
              "    </tr>\n",
              "    <tr>\n",
              "      <th>9</th>\n",
              "      <td>Porsche</td>\n",
              "      <td>Boxster</td>\n",
              "      <td>€ 30.900</td>\n",
              "      <td>135.900 km</td>\n",
              "      <td>Automatisch</td>\n",
              "      <td>08/2006</td>\n",
              "      <td>Benzine</td>\n",
              "      <td>217 kW (295 PK)</td>\n",
              "      <td>Autobedrijf</td>\n",
              "    </tr>\n",
              "    <tr>\n",
              "      <th>10</th>\n",
              "      <td>Tesla</td>\n",
              "      <td>Model Y</td>\n",
              "      <td>€ 66.800</td>\n",
              "      <td>17.500 km</td>\n",
              "      <td>Automatisch</td>\n",
              "      <td>11/2021</td>\n",
              "      <td>Elektrisch</td>\n",
              "      <td>378 kW (514 PK)</td>\n",
              "      <td>Autobedrijf</td>\n",
              "    </tr>\n",
              "    <tr>\n",
              "      <th>11</th>\n",
              "      <td>Porsche</td>\n",
              "      <td>718</td>\n",
              "      <td>€ 102.990</td>\n",
              "      <td>9.155 km</td>\n",
              "      <td>Manueel</td>\n",
              "      <td>03/2020</td>\n",
              "      <td>Benzine</td>\n",
              "      <td>309 kW (420 PK)</td>\n",
              "      <td>Autobedrijf</td>\n",
              "    </tr>\n",
              "    <tr>\n",
              "      <th>12</th>\n",
              "      <td>Jaguar</td>\n",
              "      <td>XF</td>\n",
              "      <td></td>\n",
              "      <td>282.000 km</td>\n",
              "      <td>Automatisch</td>\n",
              "      <td>06/2013</td>\n",
              "      <td>Benzine</td>\n",
              "      <td>250 kW (340 PK)</td>\n",
              "      <td>Autobedrijf</td>\n",
              "    </tr>\n",
              "    <tr>\n",
              "      <th>13</th>\n",
              "      <td>Audi</td>\n",
              "      <td>R8</td>\n",
              "      <td>€ 69.950</td>\n",
              "      <td>53.981 km</td>\n",
              "      <td>Automatisch</td>\n",
              "      <td>09/2007</td>\n",
              "      <td>Benzine</td>\n",
              "      <td>309 kW (420 PK)</td>\n",
              "      <td>Autobedrijf</td>\n",
              "    </tr>\n",
              "    <tr>\n",
              "      <th>14</th>\n",
              "      <td>BMW</td>\n",
              "      <td>225</td>\n",
              "      <td>€ 20.300</td>\n",
              "      <td>120.434 km</td>\n",
              "      <td>Automatisch</td>\n",
              "      <td>07/2016</td>\n",
              "      <td>Elektrisch/Benzine</td>\n",
              "      <td>165 kW (224 PK)</td>\n",
              "      <td>Autobedrijf</td>\n",
              "    </tr>\n",
              "  </tbody>\n",
              "</table>\n",
              "</div>\n",
              "      <button class=\"colab-df-convert\" onclick=\"convertToInteractive('df-0a8ed8e4-b8ba-43ca-b6e8-aa2440c51736')\"\n",
              "              title=\"Convert this dataframe to an interactive table.\"\n",
              "              style=\"display:none;\">\n",
              "        \n",
              "  <svg xmlns=\"http://www.w3.org/2000/svg\" height=\"24px\"viewBox=\"0 0 24 24\"\n",
              "       width=\"24px\">\n",
              "    <path d=\"M0 0h24v24H0V0z\" fill=\"none\"/>\n",
              "    <path d=\"M18.56 5.44l.94 2.06.94-2.06 2.06-.94-2.06-.94-.94-2.06-.94 2.06-2.06.94zm-11 1L8.5 8.5l.94-2.06 2.06-.94-2.06-.94L8.5 2.5l-.94 2.06-2.06.94zm10 10l.94 2.06.94-2.06 2.06-.94-2.06-.94-.94-2.06-.94 2.06-2.06.94z\"/><path d=\"M17.41 7.96l-1.37-1.37c-.4-.4-.92-.59-1.43-.59-.52 0-1.04.2-1.43.59L10.3 9.45l-7.72 7.72c-.78.78-.78 2.05 0 2.83L4 21.41c.39.39.9.59 1.41.59.51 0 1.02-.2 1.41-.59l7.78-7.78 2.81-2.81c.8-.78.8-2.07 0-2.86zM5.41 20L4 18.59l7.72-7.72 1.47 1.35L5.41 20z\"/>\n",
              "  </svg>\n",
              "      </button>\n",
              "      \n",
              "  <style>\n",
              "    .colab-df-container {\n",
              "      display:flex;\n",
              "      flex-wrap:wrap;\n",
              "      gap: 12px;\n",
              "    }\n",
              "\n",
              "    .colab-df-convert {\n",
              "      background-color: #E8F0FE;\n",
              "      border: none;\n",
              "      border-radius: 50%;\n",
              "      cursor: pointer;\n",
              "      display: none;\n",
              "      fill: #1967D2;\n",
              "      height: 32px;\n",
              "      padding: 0 0 0 0;\n",
              "      width: 32px;\n",
              "    }\n",
              "\n",
              "    .colab-df-convert:hover {\n",
              "      background-color: #E2EBFA;\n",
              "      box-shadow: 0px 1px 2px rgba(60, 64, 67, 0.3), 0px 1px 3px 1px rgba(60, 64, 67, 0.15);\n",
              "      fill: #174EA6;\n",
              "    }\n",
              "\n",
              "    [theme=dark] .colab-df-convert {\n",
              "      background-color: #3B4455;\n",
              "      fill: #D2E3FC;\n",
              "    }\n",
              "\n",
              "    [theme=dark] .colab-df-convert:hover {\n",
              "      background-color: #434B5C;\n",
              "      box-shadow: 0px 1px 3px 1px rgba(0, 0, 0, 0.15);\n",
              "      filter: drop-shadow(0px 1px 2px rgba(0, 0, 0, 0.3));\n",
              "      fill: #FFFFFF;\n",
              "    }\n",
              "  </style>\n",
              "\n",
              "      <script>\n",
              "        const buttonEl =\n",
              "          document.querySelector('#df-0a8ed8e4-b8ba-43ca-b6e8-aa2440c51736 button.colab-df-convert');\n",
              "        buttonEl.style.display =\n",
              "          google.colab.kernel.accessAllowed ? 'block' : 'none';\n",
              "\n",
              "        async function convertToInteractive(key) {\n",
              "          const element = document.querySelector('#df-0a8ed8e4-b8ba-43ca-b6e8-aa2440c51736');\n",
              "          const dataTable =\n",
              "            await google.colab.kernel.invokeFunction('convertToInteractive',\n",
              "                                                     [key], {});\n",
              "          if (!dataTable) return;\n",
              "\n",
              "          const docLinkHtml = 'Like what you see? Visit the ' +\n",
              "            '<a target=\"_blank\" href=https://colab.research.google.com/notebooks/data_table.ipynb>data table notebook</a>'\n",
              "            + ' to learn more about interactive tables.';\n",
              "          element.innerHTML = '';\n",
              "          dataTable['output_type'] = 'display_data';\n",
              "          await google.colab.output.renderOutput(dataTable, element);\n",
              "          const docLink = document.createElement('div');\n",
              "          docLink.innerHTML = docLinkHtml;\n",
              "          element.appendChild(docLink);\n",
              "        }\n",
              "      </script>\n",
              "    </div>\n",
              "  </div>\n",
              "  "
            ]
          },
          "metadata": {},
          "execution_count": 83
        }
      ]
    },
    {
      "cell_type": "code",
      "source": [
        "\"\"\"\n",
        "Data Dict\n",
        "\n",
        "name - name of car\n",
        "model - car model\n",
        "price - car price in Euros\n",
        "kilometers - amount of kilometers already on the car in KM\n",
        "transmission - manual or automatic\n",
        "manufactured_date - year car was manufactured\n",
        "fuel_type - type of fuel the car uses\n",
        "power - car power in KW and horsepower(in bracket)\n",
        "seller - car seller\n",
        "\n",
        "\"\"\""
      ],
      "metadata": {
        "id": "yWE_9YaRH7tS"
      },
      "execution_count": null,
      "outputs": []
    },
    {
      "cell_type": "code",
      "source": [
        "# save df to csv file\n",
        "autoscout24_df.to_csv('autoscout24-cars.csv')"
      ],
      "metadata": {
        "id": "NZMP6cJdHF3P"
      },
      "execution_count": null,
      "outputs": []
    },
    {
      "cell_type": "code",
      "source": [],
      "metadata": {
        "id": "5an8OSKXF78l"
      },
      "execution_count": null,
      "outputs": []
    },
    {
      "cell_type": "code",
      "source": [
        "# trying to scrape more data ...\n",
        "\n",
        "grab_basic_data_title = soup.find_all('div', attrs={'class':'DetailsSection_childrenSection__NQLD7'})[2].find_all('dt', attrs={'class':'DataGrid_defaultDtStyle__yzRR_'})\n",
        "basic_data_title = [j.text for j in grab_basic_data_title]\n",
        "print(basic_data_title)\n",
        "\n",
        "grab_basic_data_value = soup.find_all('div', attrs={'class':'DetailsSection_childrenSection__NQLD7'})[2].find_all('dd', attrs={'class':'DataGrid_defaultDdStyle__29SKf DataGrid_fontBold__r__dO'})\n",
        "basic_data_value = [j.text for j in grab_basic_data_value]\n",
        "print(basic_data_value)"
      ],
      "metadata": {
        "id": "un_Nh2-URbDF"
      },
      "execution_count": null,
      "outputs": []
    },
    {
      "cell_type": "code",
      "source": [
        "#THOUGHTS\n",
        "# take length of each list, know how I can iterate through both\n",
        "# have a dictionary containing all possible properties and then assign values to the ones that have\n",
        "\n",
        "# iterate through dict and see if title/key in list then get the index and use the index to select its value in the value list and add the value in the value list in dict"
      ],
      "metadata": {
        "id": "kISEV7CWSqED"
      },
      "execution_count": null,
      "outputs": []
    },
    {
      "cell_type": "code",
      "source": [],
      "metadata": {
        "id": "tmxveOVKZ_E_"
      },
      "execution_count": null,
      "outputs": []
    }
  ]
}